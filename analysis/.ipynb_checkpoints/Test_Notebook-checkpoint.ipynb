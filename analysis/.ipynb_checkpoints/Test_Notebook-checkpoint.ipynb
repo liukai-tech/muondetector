{
 "cells": [
  {
   "cell_type": "markdown",
   "metadata": {},
   "source": [
    "# COSMICS SHOWER DETECTOR ANALYSIS\n",
    "\n",
    "Developed in Python-3.6\n",
    "\n",
    "Install all dependend packages with\n",
    "```\n",
    "!pip3 install pandas numpy matplotlib scipy configparser jupyter mle plotly traitlet ipywidgets\n",
    "```\n",
    "```\n",
    "sudo apt-get install python3-tk\n",
    "```\n",
    "and then enable the use of widgets with\n",
    "```\n",
    "jupyter nbextension enable --py widgetsnbextension\n",
    "```\n",
    "If pip seems not to work try to do:\n",
    "```\n",
    "sudo python3 -m pip uninstall pip && sudo apt install python3-pip --reinstall\n",
    "```"
   ]
  },
  {
   "cell_type": "markdown",
   "metadata": {},
   "source": [
    "### To-Do\n",
    "- Fix timestamp x-axis label in scatplot()\n",
    "- Add Time_Diff histogram w/ GaussFit"
   ]
  },
  {
   "cell_type": "code",
   "execution_count": null,
   "metadata": {},
   "outputs": [],
   "source": [
    "#!pip3 install pandas numpy matplotlib scipy configparser jupyter mle plotly traitlet ipywidgets"
   ]
  },
  {
   "cell_type": "code",
   "execution_count": null,
   "metadata": {},
   "outputs": [],
   "source": [
    "import pandas as pd\n",
    "import numpy as np\n",
    "import matplotlib as mp\n",
    "import matplotlib.pyplot as plt\n",
    "import matplotlib as mpl\n",
    "import plotly.offline as py\n",
    "import plotly.tools as tls\n",
    "import plotly.graph_objs as go\n",
    "import plotly.io as pio\n",
    "import datetime as dt\n",
    "pio.templates.default = \"none\" # IMPORTANT, otherwise plotly would use it's own (ugly) style set\n",
    "import ipywidgets as widgets\n",
    "from ipywidgets import interact, interact_manual, interactive, fixed\n",
    "\n",
    "# Control figure size\n",
    "mpl.rcParams['figure.figsize']=(7,5)\n",
    "py.init_notebook_mode(connected=False)\n",
    "# Use plotly as gifure output\n",
    "def plotly_show():\n",
    "    fig = plt.gcf()\n",
    "    py.iplot_mpl(fig, strip_style= False, verbose=False)\n",
    "\n",
    "import traitlets\n",
    "from ipywidgets import widgets\n",
    "from IPython.display import display\n",
    "from tkinter import Tk, filedialog\n",
    "from bin.shower_note import SelectFilesButton, scatplot, colors_df"
   ]
  },
  {
   "cell_type": "markdown",
   "metadata": {},
   "source": [
    "## Select files"
   ]
  },
  {
   "cell_type": "code",
   "execution_count": null,
   "metadata": {
    "scrolled": true
   },
   "outputs": [],
   "source": [
    "file_list = SelectFilesButton()\n",
    "file_list"
   ]
  },
  {
   "cell_type": "markdown",
   "metadata": {},
   "source": [
    "## Load data"
   ]
  },
  {
   "cell_type": "code",
   "execution_count": null,
   "metadata": {},
   "outputs": [],
   "source": [
    "df = {}\n",
    "for filename in file_list.files:\n",
    "    df[filename] = pd.read_csv(filename, header=None, delim_whitespace=True,\n",
    "                   names=[\"day\", \"time\", \"ts\", \"tdiff\",\"?\",\"??\",\"s?\",\"d?\",\"a?\",\"ss?\",\"as?\",\"?s\",\"?a\",\"?aaa\"],\n",
    "                    )"
   ]
  },
  {
   "cell_type": "markdown",
   "metadata": {},
   "source": [
    "#### View data"
   ]
  },
  {
   "cell_type": "code",
   "execution_count": null,
   "metadata": {},
   "outputs": [],
   "source": [
    "@interact\n",
    "def show(File = list(file_list.files)):\n",
    "    return df[File]"
   ]
  },
  {
   "cell_type": "markdown",
   "metadata": {},
   "source": [
    "## Plot scatter plot for displaying the time histogtry of the data"
   ]
  },
  {
   "cell_type": "code",
   "execution_count": null,
   "metadata": {},
   "outputs": [],
   "source": [
    "interact(scatplot, # scatplot is costum function form bin.shower_note.py\n",
    "         dataframe = fixed(df), # datafile, must be fixed, no menu item needed here\n",
    "         conv_date = False, # converting date is time consuming!\n",
    "         name = list(file_list.files), # chose file name to plot\n",
    "         t_cut = np.arange(0,110,10), # drop down menue for time cuts (in [us])\n",
    "         yrange = np.arange(0,110,10)) # drop down menue for y-axis range (in [us])"
   ]
  },
  {
   "cell_type": "code",
   "execution_count": null,
   "metadata": {},
   "outputs": [],
   "source": []
  }
 ],
 "metadata": {
  "kernelspec": {
   "display_name": "Python 3",
   "language": "python",
   "name": "python3"
  },
  "language_info": {
   "codemirror_mode": {
    "name": "ipython",
    "version": 3
   },
   "file_extension": ".py",
   "mimetype": "text/x-python",
   "name": "python",
   "nbconvert_exporter": "python",
   "pygments_lexer": "ipython3",
   "version": "3.6.9"
  }
 },
 "nbformat": 4,
 "nbformat_minor": 2
}
