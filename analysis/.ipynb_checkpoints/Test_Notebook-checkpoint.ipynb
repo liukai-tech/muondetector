{
 "cells": [
  {
   "cell_type": "markdown",
   "metadata": {},
   "source": [
    "# COSMICS SHOWER DETECTOR ANALYSIS\n",
    "\n",
    "Developed in Python-3.6\n",
    "\n",
    "Install all dependend packages with\n",
    "```\n",
    "!pip3 install pandas numpy matplotlib scipy configparser jupyter mle plotly traitlet ipywidgets\n",
    "```\n",
    "```\n",
    "sudo apt-get install python3-tk\n",
    "```\n",
    "and then enable the use of widgets with\n",
    "```\n",
    "jupyter nbextension enable --py widgetsnbextension\n",
    "```\n",
    "```\n",
    "jupyter nbextension enable --py --sys-prefix plotlywidget\n",
    "```\n",
    "If pip seems not to work try to do:\n",
    "```\n",
    "sudo python3 -m pip uninstall pip && sudo apt install python3-pip --reinstall\n",
    "```"
   ]
  },
  {
   "cell_type": "markdown",
   "metadata": {},
   "source": [
    "### To-Do\n",
    "- Fix timestamp x-axis label in scatplot()\n",
    "- Add Time_Diff histogram w/ GaussFit"
   ]
  },
  {
   "cell_type": "code",
   "execution_count": null,
   "metadata": {},
   "outputs": [],
   "source": [
    "#!pip3 install pandas numpy matplotlib scipy configparser jupyter mle plotly traitlet ipywidgets"
   ]
  },
  {
   "cell_type": "code",
   "execution_count": null,
   "metadata": {},
   "outputs": [],
   "source": [
    "#!pip3 install --upgrade numpy matplotlib scipy configparser jupyter mle plotly traitlet ipywidgets"
   ]
  },
  {
   "cell_type": "code",
   "execution_count": null,
   "metadata": {},
   "outputs": [],
   "source": [
    "import pandas as pd\n",
    "import numpy as np\n",
    "import matplotlib as mp\n",
    "import matplotlib.pyplot as plt\n",
    "import matplotlib as mpl\n",
    "import plotly.offline as py\n",
    "import plotly.tools as tls\n",
    "import plotly.graph_objs as go\n",
    "import plotly.io as pio\n",
    "import datetime as dt\n",
    "pio.templates.default = \"none\" # IMPORTANT, otherwise plotly would use it's own (ugly) style set\n",
    "import ipywidgets as widgets\n",
    "from ipywidgets import interact, interact_manual, interactive, fixed\n",
    "\n",
    "# Control figure size\n",
    "mpl.rcParams['figure.figsize']=(7,5)\n",
    "py.init_notebook_mode(connected=False)\n",
    "# Use plotly as gifure output\n",
    "def plotly_show():\n",
    "    fig = plt.gcf()\n",
    "    py.iplot_mpl(fig, strip_style= False, verbose=False)\n",
    "\n",
    "import traitlets\n",
    "from ipywidgets import widgets\n",
    "from IPython.display import display\n",
    "from tkinter import Tk, filedialog\n",
    "from bin.shower_note import SelectFilesButton, scatplot, colors_df"
   ]
  },
  {
   "cell_type": "markdown",
   "metadata": {},
   "source": [
    "## Select files"
   ]
  },
  {
   "cell_type": "code",
   "execution_count": null,
   "metadata": {
    "scrolled": true
   },
   "outputs": [],
   "source": [
    "file_list = SelectFilesButton()\n",
    "file_list"
   ]
  },
  {
   "cell_type": "markdown",
   "metadata": {},
   "source": [
    "## Load data"
   ]
  },
  {
   "cell_type": "code",
   "execution_count": null,
   "metadata": {},
   "outputs": [],
   "source": [
    "df = {}\n",
    "for filename in file_list.files:\n",
    "    df[filename] = pd.read_csv(filename, header=None, delim_whitespace=True,\n",
    "                   names=[\"day\", \"time\", \"ts\", \"tdiff\",\"?\",\"??\",\"s?\",\"d?\",\"a?\",\"ss?\",\"as?\",\"?s\",\"?a\",\"?aaa\"],\n",
    "                    )"
   ]
  },
  {
   "cell_type": "markdown",
   "metadata": {},
   "source": [
    "#### View data"
   ]
  },
  {
   "cell_type": "code",
   "execution_count": null,
   "metadata": {},
   "outputs": [],
   "source": [
    "@interact\n",
    "def show(File = list(file_list.files)):\n",
    "    return df[File]"
   ]
  },
  {
   "cell_type": "markdown",
   "metadata": {},
   "source": [
    "## Plot scatter plot for displaying the time histogtry of the data"
   ]
  },
  {
   "cell_type": "code",
   "execution_count": null,
   "metadata": {},
   "outputs": [],
   "source": [
    "interact(scatplot, # scatplot is costum function form bin.shower_note.py\n",
    "         dataframe = fixed(df), # datafile, must be fixed, no menu item needed here\n",
    "         conv_date = False, # converting date is time consuming!\n",
    "         name = list(file_list.files), # chose file name to plot\n",
    "         t_cut = np.arange(0,110,10), # drop down menue for time cuts (in [us])\n",
    "         yrange = np.arange(0,110,10)) # drop down menue for y-axis range (in [us])"
   ]
  },
  {
   "cell_type": "markdown",
   "metadata": {},
   "source": [
    "### UNDER CONSTRUCTION, please wear safety helmets and boots!"
   ]
  },
  {
   "cell_type": "code",
   "execution_count": null,
   "metadata": {},
   "outputs": [],
   "source": [
    "def scatplot(dataframe,\n",
    "             name,\n",
    "             conv_date = False,\n",
    "             t_cut = 10,\n",
    "             yrange = 100\n",
    "            ):\n",
    "    \n",
    "    #coincidence cut\n",
    "    data = dataframe[name]\n",
    "    t_cut = t_cut*1e3 # in ns\n",
    "    data_cut = data[(data.tdiff <= t_cut) & (data.tdiff >= -t_cut)]\n",
    "    # Prepare data for highlighting the time cut\n",
    "    cut_upper = np.full(len(data.ts),t_cut*1e0)\n",
    "    cut_lower = np.full(len(data.ts),-t_cut*1e0)\n",
    "    cut_lower = cut_lower[::-1]\n",
    "    x_rev = data.ts[::-1]\n",
    "    x_prepared = np.append(data.ts, x_rev)\n",
    "    # Convert the timestamps to datetime format for plotting\n",
    "    if conv_date:\n",
    "        xdata1 = [(dt.datetime.fromtimestamp(data.ts[index])) for index, rows in data.ts.iteritems()] \n",
    "        xdata2 = [(dt.datetime.fromtimestamp(data_cut.ts[index])) for index, rows in data_cut.ts.iteritems()]\n",
    "        xdata3 = [(dt.datetime.fromtimestamp(x_prepared[i])) for i in np.arange(0,len(x_prepared),1)]\n",
    "    else: \n",
    "        xdata1 = data.ts\n",
    "        xdata2 = data_cut.ts\n",
    "        xdata3 = x_prepared\n",
    "    # Uncut data\n",
    "    trace1 = go.Scattergl( # scattergl for increased speed!\n",
    "        x = xdata1, \n",
    "        y = data.tdiff,\n",
    "        mode = 'markers',\n",
    "        marker_color = colors_df['Fall_rgb'][1],\n",
    "        marker_size = 5,\n",
    "        name = \"Uncut\"\n",
    "    )\n",
    "    # Cut data\n",
    "    trace2 = go.Scattergl( # scattergl for increased speed!\n",
    "        x = xdata2,\n",
    "        y = data_cut.tdiff,\n",
    "        mode = 'markers',\n",
    "#         marker_color = 'rgb(0,176,246)',\n",
    "        marker_color = colors_df['Fall_rgb'][0],\n",
    "        marker_size = 10,\n",
    "        name = \"Cut\",\n",
    "        marginal_y=\"histogram\"\n",
    "    )\n",
    "    trace3 = go.Scatter(\n",
    "        x = xdata3,\n",
    "        y = np.append(cut_upper,cut_lower),\n",
    "        fill='toself',\n",
    "        fillcolor=colors_df['Fall_rgba'][0],\n",
    "        line_color='rgba(255,255,255,0)',\n",
    "        showlegend=False,\n",
    "        name='Fair',\n",
    "    )\n",
    "    \n",
    "    # Data to plot\n",
    "    plot_data = [trace1, trace2, trace3]\n",
    "\n",
    "    layout = dict(title = 'Time Distribution Plot',\n",
    "                  yaxis = dict(zeroline = True, mirror=True, ticks='outside', showline=True, \n",
    "                               showexponent = 'all', exponentformat = 'e', range=[-yrange*1e3, yrange*1e3], \n",
    "                               title=\"Time Difference [ns]\"),\n",
    "                  xaxis = dict(zeroline = True, mirror=True, ticks='outside', showline=True,\n",
    "                               title = \"Unix Timestamp\", type = \"date\"),\n",
    "                  xaxis_rangeslider_visible=False,\n",
    "                  xaxis_tickformat = '%d %B <br>%Y<br>%H:%M:%S'\n",
    "                 )\n",
    "\n",
    "    fig = dict(data=plot_data, layout=layout)\n",
    "        \n",
    "    py.iplot(fig)"
   ]
  },
  {
   "cell_type": "code",
   "execution_count": null,
   "metadata": {},
   "outputs": [],
   "source": [
    "data = df[file_list.files[0]]\n",
    "data_cut = data[(data.tdiff <= 10000) & (data.tdiff >= -10000)]"
   ]
  },
  {
   "cell_type": "code",
   "execution_count": null,
   "metadata": {
    "scrolled": false
   },
   "outputs": [],
   "source": [
    "import plotly.graph_objs as go\n",
    "import numpy as np\n",
    "\n",
    "n_samples = 100000\n",
    "n_ads_shown = 100\n",
    "proportion_clicks = np.random.uniform(high=0.2, size=n_samples)\n",
    "n_visitors = np.random.binomial(n=n_ads_shown, p=proportion_clicks, size=n_samples)\n",
    "\n",
    "\n",
    "fig = go.FigureWidget()\n",
    "trace1 = fig.add_scattergl( # scattergl for increased speed!\n",
    "        x = data.ts, \n",
    "        y = data.tdiff,\n",
    "        mode = 'markers',\n",
    "        marker_color = colors_df['Fall_rgb'][1],\n",
    "        marker_size = 5,\n",
    "        name = \"Uncut\"\n",
    "    )\n",
    "    # Cut data\n",
    "trace2 = fig.add_scattergl( # scattergl for increased speed!\n",
    "        x = data_cut.ts,\n",
    "        y = data_cut.tdiff,\n",
    "        mode = 'markers',\n",
    "#         marker_color = 'rgb(0,176,246)',\n",
    "        marker_color = colors_df['Fall_rgb'][0],\n",
    "        marker_size = 10,\n",
    "        name = \"Cut\",\n",
    ")\n",
    "\n",
    "hist11 = fig.add_histogram(x=data.ts, name='x density', marker=dict(color='#1f77b4', opacity=0.7),\n",
    "                      yaxis='y2'\n",
    "                     )\n",
    "hist12 = fig.add_histogram(y=data.tdiff, name='y density', marker=dict(color='#1f77b4', opacity=0.7),\n",
    "                      xaxis='x2'\n",
    "                     )\n",
    "fig.layout = dict(xaxis=dict(domain=[0, 0.85], showgrid=False, zeroline=False),\n",
    "                  yaxis=dict(domain=[0, 0.85], showgrid=False, zeroline=False),\n",
    "                  showlegend=False,\n",
    "                  margin=dict(t=50),\n",
    "                  hovermode='closest',\n",
    "                  bargap=0,\n",
    "                  xaxis2=dict(domain=[0.85, 1], showgrid=False, zeroline=False),\n",
    "                  yaxis2=dict(domain=[0.85, 1], showgrid=False, zeroline=False),\n",
    "                  height=600,\n",
    "                 )\n",
    "\n",
    "def do_zoom(layout, xaxis_range, yaxis_range):\n",
    "    inds = ((xaxis_range[0] <= data.ts) & (data.ts <= xaxis_range[1]) &\n",
    "            (yaxis_range[0] <= data.tdiff) & (data.tdiff <= yaxis_range[1]))\n",
    "\n",
    "    with fig.batch_update():\n",
    "        fig.data[2].x = data.ts[inds]\n",
    "        fig.data[3].y = data.tdiff[inds]\n",
    "    \n",
    "fig.layout.on_change(do_zoom, 'xaxis.range', 'yaxis.range')\n",
    "    \n",
    "fig"
   ]
  },
  {
   "cell_type": "code",
   "execution_count": null,
   "metadata": {},
   "outputs": [],
   "source": []
  },
  {
   "cell_type": "code",
   "execution_count": null,
   "metadata": {},
   "outputs": [],
   "source": []
  },
  {
   "cell_type": "code",
   "execution_count": null,
   "metadata": {},
   "outputs": [],
   "source": []
  },
  {
   "cell_type": "code",
   "execution_count": null,
   "metadata": {},
   "outputs": [],
   "source": []
  },
  {
   "cell_type": "code",
   "execution_count": null,
   "metadata": {},
   "outputs": [],
   "source": []
  },
  {
   "cell_type": "code",
   "execution_count": null,
   "metadata": {},
   "outputs": [],
   "source": []
  }
 ],
 "metadata": {
  "kernelspec": {
   "display_name": "Python 3",
   "language": "python",
   "name": "python3"
  },
  "language_info": {
   "codemirror_mode": {
    "name": "ipython",
    "version": 3
   },
   "file_extension": ".py",
   "mimetype": "text/x-python",
   "name": "python",
   "nbconvert_exporter": "python",
   "pygments_lexer": "ipython3",
   "version": "3.6.9"
  }
 },
 "nbformat": 4,
 "nbformat_minor": 2
}
